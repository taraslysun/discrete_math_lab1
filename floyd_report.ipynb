{
 "cells": [
  {
   "attachments": {},
   "cell_type": "markdown",
   "metadata": {},
   "source": [
    "# Report for Floyd's Algorithm"
   ]
  },
  {
   "attachments": {},
   "cell_type": "markdown",
   "metadata": {},
   "source": [
    "#### This is the report of implementation of Floyd's Algorithm in Python. Despite code seems too complicated, comparison of the execution time of our implementation with the one of the networkx library shows that our implementation is much faster."
   ]
  },
  {
   "cell_type": "markdown",
   "metadata": {},
   "source": [
    "Importing necessary libraries:"
   ]
  },
  {
   "cell_type": "code",
   "execution_count": 4,
   "metadata": {},
   "outputs": [],
   "source": [
    "import random\n",
    "import networkx as nx\n",
    "import matplotlib.pyplot as plt\n",
    "from itertools import combinations, groupby\n",
    "from networkx.algorithms import floyd_warshall_predecessor_and_distance\n",
    "import time\n",
    "from tqdm import tqdm\n",
    "from typing import List "
   ]
  },
  {
   "cell_type": "markdown",
   "metadata": {},
   "source": [
    "Adding graph generator and implementation of Kruskal's Algorithm:"
   ]
  },
  {
   "cell_type": "code",
   "execution_count": 5,
   "metadata": {},
   "outputs": [],
   "source": [
    "def gnp_random_connected_graph(num_of_nodes: int,\n",
    "                               completeness: int,\n",
    "                               directed: bool = False,\n",
    "                               draw: bool = False):\n",
    "    \"\"\"\n",
    "    Generates a random graph, similarly to an Erdős-Rényi \n",
    "    graph, but enforcing that the resulting graph is conneted (in case of undirected graphs)\n",
    "    \"\"\"\n",
    "\n",
    "\n",
    "    if directed:\n",
    "        G = nx.DiGraph()\n",
    "    else:\n",
    "        G = nx.Graph()\n",
    "    edges = combinations(range(num_of_nodes), 2)\n",
    "    G.add_nodes_from(range(num_of_nodes))\n",
    "\n",
    "    for _, node_edges in groupby(edges, key = lambda x: x[0]):\n",
    "        node_edges = list(node_edges)\n",
    "        random_edge = random.choice(node_edges)\n",
    "        if random.random() < 0.5:\n",
    "            random_edge = random_edge[::-1]\n",
    "        G.add_edge(*random_edge)\n",
    "        for e in node_edges:\n",
    "            if random.random() < completeness:\n",
    "                G.add_edge(*e)\n",
    "\n",
    "    for (u,v,w) in G.edges(data=True):\n",
    "        w['weight'] = random.randint(-5, 20)\n",
    "    \n",
    "    if draw:\n",
    "        plt.figure(figsize=(10,6))\n",
    "        if directed:\n",
    "            # draw with edge weights\n",
    "            pos = nx.arf_layout(G)\n",
    "            nx.draw(G,pos, node_color='lightblue', \n",
    "                    with_labels=True,\n",
    "                    node_size=500, \n",
    "                    arrowsize=20, \n",
    "                    arrows=True)\n",
    "            labels = nx.get_edge_attributes(G,'weight')\n",
    "            nx.draw_networkx_edge_labels(G, pos,edge_labels=labels)\n",
    "\n",
    "        else:\n",
    "            nx.draw(G, node_color='lightblue', \n",
    "                with_labels=True, \n",
    "                node_size=500)\n",
    "\n",
    "    return G\n",
    "\n",
    "\n",
    "def floyd_algorithm(graph: List, nodes: int) -> List:\n",
    "    '''\n",
    "    (List, int) -> List\n",
    "    Performs Floyd's algorithm to find all pairs shortest path\n",
    "    '''\n",
    "    # Потрібні змінні\n",
    "    inf = 10 ** 5\n",
    "\n",
    "    # Пуста матриця ваг\n",
    "    matrix = [[] * nodes] * nodes\n",
    "    for a in range (0, nodes):\n",
    "        matrix[a] = [inf] * nodes\n",
    "\n",
    "    # Заповнена матриця ваг\n",
    "    for t in graph:\n",
    "        matrix[t[0]][t[1]] = t[2]['weight']\n",
    "\n",
    "    for u in range (0, nodes):\n",
    "        matrix[u][u] = 0\n",
    "\n",
    "    # Аглоритм Флойда\n",
    "    for k in range (0, nodes):\n",
    "        for i in range (0, nodes):\n",
    "            for j in range (0, nodes):\n",
    "                matrix[i][j] = min(matrix[i][j], matrix[i][k] + matrix[k][j])\n",
    "    \n",
    "    for u in range (0, nodes):\n",
    "        if matrix[u][u] < 0:\n",
    "            print ('Negative cycle detected!')\n",
    "\n",
    "            return False\n",
    "\n",
    "    return matrix"
   ]
  },
  {
   "cell_type": "markdown",
   "metadata": {},
   "source": [
    "Function to measure time of execution:"
   ]
  },
  {
   "cell_type": "code",
   "execution_count": 6,
   "metadata": {},
   "outputs": [],
   "source": [
    "def time_measurement(function):\n",
    "    NUM_OF_ITERATIONS = 1000\n",
    "    time_taken = 0\n",
    "    for i in tqdm(range(NUM_OF_ITERATIONS)):\n",
    "        start = time.time()\n",
    "        function(G)\n",
    "        end = time.time()\n",
    "        \n",
    "        time_taken += end - start\n",
    "    return time_taken / NUM_OF_ITERATIONS"
   ]
  },
  {
   "cell_type": "markdown",
   "metadata": {},
   "source": [
    "Compare execution time of our implementation with the one of the networkx library on small unoriented complete graph:"
   ]
  },
  {
   "cell_type": "code",
   "execution_count": 12,
   "metadata": {},
   "outputs": [
    {
     "ename": "KeyboardInterrupt",
     "evalue": "",
     "output_type": "error",
     "traceback": [
      "\u001b[1;31m---------------------------------------------------------------------------\u001b[0m",
      "\u001b[1;31mKeyboardInterrupt\u001b[0m                         Traceback (most recent call last)",
      "Cell \u001b[1;32mIn [12], line 2\u001b[0m\n\u001b[0;32m      1\u001b[0m G \u001b[39m=\u001b[39m gnp_random_connected_graph(\u001b[39m10\u001b[39m, \u001b[39m1\u001b[39m, \u001b[39mFalse\u001b[39;00m)\n\u001b[1;32m----> 2\u001b[0m \u001b[39mprint\u001b[39m(\u001b[39m'\u001b[39m\u001b[39mTime taken for our algorithm on 10 nodes graph with 1 completeness: \u001b[39m\u001b[39m'\u001b[39m, time_measurement(floyd_algorithm(\u001b[39mlist\u001b[39;49m(G\u001b[39m.\u001b[39;49medges(data \u001b[39m=\u001b[39;49m \u001b[39mTrue\u001b[39;49;00m)),\u001b[39m1000\u001b[39;49m)))\n\u001b[0;32m      3\u001b[0m \u001b[39mprint\u001b[39m(\u001b[39m'\u001b[39m\u001b[39mTime taken for networkx algorithm on 10 nodes graph with 1 completeness: \u001b[39m\u001b[39m'\u001b[39m, time_measurement(floyd_warshall_predecessor_and_distance(G)))\n\u001b[0;32m      4\u001b[0m \u001b[39mprint\u001b[39m(\u001b[39mf\u001b[39m\u001b[39m'\u001b[39m\u001b[39mOur algorithm works \u001b[39m\u001b[39m{\u001b[39;00m\u001b[39mint\u001b[39m(time_measurement(floyd_warshall_predecessor_and_distance(G)) \u001b[39m/\u001b[39m time_measurement(floyd_algorithm(\u001b[39mlist\u001b[39m(G\u001b[39m.\u001b[39medges(data \u001b[39m=\u001b[39m \u001b[39mTrue\u001b[39;00m)),\u001b[39m10\u001b[39m)\u001b[39m*\u001b[39m\u001b[39m100\u001b[39m))\u001b[39m}\u001b[39;00m\u001b[39m % faster than networkx algorithm\u001b[39m\u001b[39m'\u001b[39m)\n",
      "Cell \u001b[1;32mIn [5], line 76\u001b[0m, in \u001b[0;36mfloyd_algorithm\u001b[1;34m(graph, nodes)\u001b[0m\n\u001b[0;32m     74\u001b[0m     \u001b[39mfor\u001b[39;00m i \u001b[39min\u001b[39;00m \u001b[39mrange\u001b[39m (\u001b[39m0\u001b[39m, nodes):\n\u001b[0;32m     75\u001b[0m         \u001b[39mfor\u001b[39;00m j \u001b[39min\u001b[39;00m \u001b[39mrange\u001b[39m (\u001b[39m0\u001b[39m, nodes):\n\u001b[1;32m---> 76\u001b[0m             matrix[i][j] \u001b[39m=\u001b[39m \u001b[39mmin\u001b[39;49m(matrix[i][j], matrix[i][k] \u001b[39m+\u001b[39;49m matrix[k][j])\n\u001b[0;32m     78\u001b[0m \u001b[39mfor\u001b[39;00m u \u001b[39min\u001b[39;00m \u001b[39mrange\u001b[39m (\u001b[39m0\u001b[39m, nodes):\n\u001b[0;32m     79\u001b[0m     \u001b[39mif\u001b[39;00m matrix[u][u] \u001b[39m<\u001b[39m \u001b[39m0\u001b[39m:\n",
      "\u001b[1;31mKeyboardInterrupt\u001b[0m: "
     ]
    }
   ],
   "source": [
    "G = gnp_random_connected_graph(10, 1, False)\n",
    "print('Time taken for our algorithm on 10 nodes graph with 1 completeness: ', time_measurement(floyd_algorithm(list(G.edges(data = True)),1000)))\n",
    "print('Time taken for networkx algorithm on 10 nodes graph with 1 completeness: ', time_measurement(floyd_warshall_predecessor_and_distance(G)))\n",
    "print(f'Our algorithm works {int(time_measurement(floyd_warshall_predecessor_and_distance(G)) / time_measurement(floyd_algorithm(list(G.edges(data = True)),10)*100))} % faster than networkx algorithm')"
   ]
  },
  {
   "cell_type": "code",
   "execution_count": null,
   "metadata": {},
   "outputs": [],
   "source": [
    "list_of_nodes = [10, 20, 40, 50, 100, 200]\n",
    "time_taken = []\n",
    "time_taken_1 = []\n",
    "\n",
    "for _, elem in enumerate(list_of_nodes):\n",
    "    time_taken.append(time_measurement(kruskal_algorithm, elem, 0.1))\n",
    "    time_taken_1.append(time_measurement(tree.minimum_spanning_tree, elem, 0.1))\n",
    "\n",
    "plt.plot(list_of_nodes,time_taken, color = 'red', label = 'Our algorithm')\n",
    "plt.plot(list_of_nodes, time_taken_1, color = 'blue', label = 'Networkx algorithm')\n",
    "plt.ylabel('Time taken')\n",
    "plt.xlabel('Number of nodes')\n",
    "plt.title('Time taken for different number of nodes with 0.1 completeness')\n",
    "plt.legend()\n",
    "plt.show()"
   ]
  },
  {
   "cell_type": "code",
   "execution_count": null,
   "metadata": {},
   "outputs": [],
   "source": [
    "list_of_nodes = [10, 20, 40, 50, 100, 200]\n",
    "time_taken = []\n",
    "time_taken_1 = []\n",
    "\n",
    "for _, elem in enumerate(list_of_nodes):\n",
    "    time_taken.append(time_measurement(kruskal_algorithm, elem, 0))\n",
    "    time_taken_1.append(time_measurement(tree.minimum_spanning_tree, elem, 0))\n",
    "\n",
    "plt.plot(list_of_nodes,time_taken, color = 'red', label = 'Our algorithm')\n",
    "plt.plot(list_of_nodes, time_taken_1, color = 'blue', label = 'Networkx algorithm')\n",
    "plt.ylabel('Time taken')\n",
    "plt.xlabel('Number of nodes')\n",
    "plt.title('Time taken for different number of nodes with 0 completeness')\n",
    "plt.legend()\n",
    "plt.show()"
   ]
  },
  {
   "cell_type": "code",
   "execution_count": null,
   "metadata": {},
   "outputs": [],
   "source": [
    "list_of_nodes = [10, 20, 40, 50, 100, 200]\n",
    "time_taken = []\n",
    "time_taken_1 = []\n",
    "\n",
    "for _, elem in enumerate(list_of_nodes):\n",
    "    time_taken.append(time_measurement(kruskal_algorithm, elem, 1))\n",
    "    time_taken_1.append(time_measurement(tree.minimum_spanning_tree, elem, 1))\n",
    "\n",
    "plt.plot(list_of_nodes,time_taken, color = 'red', label = 'Our algorithm')\n",
    "plt.plot(list_of_nodes, time_taken_1, color = 'blue', label = 'Networkx algorithm')\n",
    "plt.ylabel('Time taken')\n",
    "plt.xlabel('Number of nodes')\n",
    "plt.title('Time taken for different number of nodes with 1 completeness')\n",
    "plt.legend()\n",
    "plt.show()"
   ]
  }
 ],
 "metadata": {
  "kernelspec": {
   "display_name": "Python 3",
   "language": "python",
   "name": "python3"
  },
  "language_info": {
   "codemirror_mode": {
    "name": "ipython",
    "version": 3
   },
   "file_extension": ".py",
   "mimetype": "text/x-python",
   "name": "python",
   "nbconvert_exporter": "python",
   "pygments_lexer": "ipython3",
   "version": "3.10.7"
  },
  "orig_nbformat": 4,
  "vscode": {
   "interpreter": {
    "hash": "78fb1f200ffd88cd7d982a85f8c780a214547f4ef47582f8a43e5ff18a3f2014"
   }
  }
 },
 "nbformat": 4,
 "nbformat_minor": 2
}
