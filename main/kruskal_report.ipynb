{
 "cells": [
  {
   "attachments": {},
   "cell_type": "markdown",
   "metadata": {},
   "source": [
    "# Report for Kruskal's Algorithm"
   ]
  },
  {
   "attachments": {},
   "cell_type": "markdown",
   "metadata": {},
   "source": [
    "#### This is the report of implementation of Kruskal's Algorithm in Python. Despite code seems too complicated, comparison of the execution time of our implementation with the one of the networkx library shows that our implementation is much faster."
   ]
  },
  {
   "attachments": {},
   "cell_type": "markdown",
   "metadata": {},
   "source": [
    "Importing necessary libraries:"
   ]
  },
  {
   "cell_type": "code",
   "execution_count": null,
   "metadata": {},
   "outputs": [],
   "source": [
    "import random\n",
    "import networkx as nx\n",
    "import matplotlib.pyplot as plt\n",
    "from itertools import combinations, groupby\n",
    "from networkx.algorithms import tree\n",
    "import time\n",
    "from tqdm import tqdm"
   ]
  },
  {
   "attachments": {},
   "cell_type": "markdown",
   "metadata": {},
   "source": [
    "Adding graph generator and implementation of Kruskal's Algorithm:"
   ]
  },
  {
   "cell_type": "code",
   "execution_count": null,
   "metadata": {},
   "outputs": [],
   "source": [
    "def gnp_random_connected_graph(num_of_nodes: int,\n",
    "                               completeness: int,\n",
    "                               directed: bool = False,\n",
    "                               draw: bool = False):\n",
    "    \"\"\"\n",
    "    Generates a random graph, similarly to an Erdős-Rényi \n",
    "    graph, but enforcing that the resulting graph is conneted (in case of undirected graphs)\n",
    "    \"\"\"\n",
    "\n",
    "\n",
    "    if directed:\n",
    "        G = nx.DiGraph()\n",
    "    else:\n",
    "        G = nx.Graph()\n",
    "    edges = combinations(range(num_of_nodes), 2)\n",
    "    G.add_nodes_from(range(num_of_nodes))\n",
    "\n",
    "    for _, node_edges in groupby(edges, key = lambda x: x[0]):\n",
    "        node_edges = list(node_edges)\n",
    "        random_edge = random.choice(node_edges)\n",
    "        if random.random() < 0.5:\n",
    "            random_edge = random_edge[::-1]\n",
    "        G.add_edge(*random_edge)\n",
    "        for e in node_edges:\n",
    "            if random.random() < completeness:\n",
    "                G.add_edge(*e)\n",
    "\n",
    "    for (u,v,w) in G.edges(data=True):\n",
    "        w['weight'] = random.randint(-5, 20)\n",
    "    \n",
    "    if draw:\n",
    "        plt.figure(figsize=(10,6))\n",
    "        if directed:\n",
    "            # draw with edge weights\n",
    "            pos = nx.arf_layout(G)\n",
    "            nx.draw(G,pos, node_color='lightblue', \n",
    "                    with_labels=True,\n",
    "                    node_size=500, \n",
    "                    arrowsize=20, \n",
    "                    arrows=True)\n",
    "            labels = nx.get_edge_attributes(G,'weight')\n",
    "            nx.draw_networkx_edge_labels(G, pos,edge_labels=labels)\n",
    "\n",
    "        else:\n",
    "            nx.draw(G, node_color='lightblue', \n",
    "                with_labels=True, \n",
    "                node_size=500)\n",
    "\n",
    "    return G\n",
    "\n",
    "\n",
    "def kruskal_algorithm(graph, algorithm=None) -> list[tuple[int, int, dict]]:\n",
    "    '''\n",
    "    Perform Kruskal's algorithm to find minimum panning tree\n",
    "    Graph is given as list of edges with \n",
    "    Returns list of tuples with information about minimum planning tree edges\n",
    "    '''\n",
    "    sorted_edges = sorted(list(graph.edges(data=True)), key=lambda x: x[2]['weight'])\n",
    "    list_of_nodes = [set([node]) for node in list(graph.nodes())]\n",
    "    res = []\n",
    "    while len(list_of_nodes) > 1:\n",
    "        for edge in sorted_edges:\n",
    "            for node in list_of_nodes:\n",
    "                if edge[0] in node and edge[1] not in node:\n",
    "                    list_of_nodes.remove(node)\n",
    "                    for node_set in list_of_nodes:\n",
    "                        if edge[1] in node_set:\n",
    "                            list_of_nodes.remove(node_set)\n",
    "                            list_of_nodes.append(node.union(node_set))\n",
    "                            break\n",
    "                    res.append(edge)\n",
    "                    break\n",
    "    return res"
   ]
  },
  {
   "attachments": {},
   "cell_type": "markdown",
   "metadata": {},
   "source": [
    "Function to measure time of execution:"
   ]
  },
  {
   "cell_type": "code",
   "execution_count": 65,
   "metadata": {},
   "outputs": [],
   "source": [
    "def time_measurement(function, num_of_nodes, completeness, directed=False):\n",
    "    NUM_OF_ITERATIONS = 1000\n",
    "    time_taken = 0\n",
    "    for i in tqdm(range(NUM_OF_ITERATIONS)):\n",
    "        G = gnp_random_connected_graph(num_of_nodes, completeness, directed)\n",
    "        start = time.time()\n",
    "        function(G, algorithm='kruskal')\n",
    "        end = time.time()\n",
    "        \n",
    "        time_taken += end - start\n",
    "    return time_taken / NUM_OF_ITERATIONS"
   ]
  },
  {
   "attachments": {},
   "cell_type": "markdown",
   "metadata": {},
   "source": [
    "Compare execution time of our implementation with the one of the networkx library on small unoriented complete graph:"
   ]
  },
  {
   "cell_type": "code",
   "execution_count": 67,
   "metadata": {},
   "outputs": [
    {
     "name": "stderr",
     "output_type": "stream",
     "text": [
      "100%|██████████| 1000/1000 [00:00<00:00, 1301.01it/s]\n"
     ]
    },
    {
     "name": "stdout",
     "output_type": "stream",
     "text": [
      "Time taken for our algorithm on 10 nodes graph with 1 completeness:  0.0002624537944793701\n"
     ]
    },
    {
     "name": "stderr",
     "output_type": "stream",
     "text": [
      "100%|██████████| 1000/1000 [00:01<00:00, 960.96it/s]\n"
     ]
    },
    {
     "name": "stdout",
     "output_type": "stream",
     "text": [
      "Time taken for networkx algorithm on 10 nodes graph with 1 completeness:  0.0005517024993896484\n"
     ]
    },
    {
     "name": "stderr",
     "output_type": "stream",
     "text": [
      "100%|██████████| 1000/1000 [00:00<00:00, 1466.85it/s]\n",
      "100%|██████████| 1000/1000 [00:00<00:00, 1901.72it/s]"
     ]
    },
    {
     "name": "stdout",
     "output_type": "stream",
     "text": [
      "Our algorithm works 204 % faster than networkx algorithm\n"
     ]
    },
    {
     "name": "stderr",
     "output_type": "stream",
     "text": [
      "\n"
     ]
    }
   ],
   "source": [
    "print('Time taken for our algorithm on 10 nodes graph with 1 completeness: ', time_measurement(kruskal_algorithm, 10, 1))\n",
    "print('Time taken for networkx algorithm on 10 nodes graph with 1 completeness: ', time_measurement(tree.minimum_spanning_tree, 10, 1))\n",
    "print(f'Our algorithm works {int((time_measurement(tree.minimum_spanning_tree, 10, 1) / time_measurement(kruskal_algorithm, 10, 1)*100))} % faster than networkx algorithm')"
   ]
  },
  {
   "cell_type": "code",
   "execution_count": 68,
   "metadata": {},
   "outputs": [
    {
     "name": "stderr",
     "output_type": "stream",
     "text": [
      "100%|██████████| 1000/1000 [00:00<00:00, 2800.69it/s]\n",
      "100%|██████████| 1000/1000 [00:00<00:00, 1623.12it/s]\n",
      "100%|██████████| 1000/1000 [00:00<00:00, 1012.93it/s]\n",
      "100%|██████████| 1000/1000 [00:00<00:00, 1140.67it/s]\n",
      "100%|██████████| 1000/1000 [00:01<00:00, 579.87it/s]\n",
      "100%|██████████| 1000/1000 [00:02<00:00, 408.62it/s]\n",
      "100%|██████████| 1000/1000 [00:04<00:00, 216.68it/s]\n",
      "100%|██████████| 1000/1000 [00:02<00:00, 368.31it/s]\n",
      "100%|██████████| 1000/1000 [00:07<00:00, 131.62it/s]\n",
      "100%|██████████| 1000/1000 [00:08<00:00, 121.49it/s]\n",
      "100%|██████████| 1000/1000 [00:30<00:00, 32.49it/s]\n",
      "100%|██████████| 1000/1000 [00:27<00:00, 35.76it/s]\n"
     ]
    },
    {
     "data": {
      "image/png": "[encoded data removed]",
      "text/plain": [
       "<Figure size 640x480 with 1 Axes>"
      ]
     },
     "metadata": {},
     "output_type": "display_data"
    }
   ],
   "source": [
    "list_of_nodes = [10, 20, 40, 50, 100, 200]\n",
    "time_taken = []\n",
    "time_taken_1 = []\n",
    "\n",
    "for _, elem in enumerate(list_of_nodes):\n",
    "    time_taken.append(time_measurement(kruskal_algorithm, elem, 0.1))\n",
    "    time_taken_1.append(time_measurement(tree.minimum_spanning_tree, elem, 0.1))\n",
    "\n",
    "plt.plot(list_of_nodes,time_taken, color = 'red', label = 'Our algorithm')\n",
    "plt.plot(list_of_nodes, time_taken_1, color = 'blue', label = 'Networkx algorithm')\n",
    "plt.ylabel('Time taken')\n",
    "plt.xlabel('Number of nodes')\n",
    "plt.title('Time taken for different number of nodes with 0.1 completeness')\n",
    "plt.legend()\n",
    "plt.show()"
   ]
  },
  {
   "cell_type": "code",
   "execution_count": null,
   "metadata": {},
   "outputs": [],
   "source": [
    "list_of_nodes = [10, 20, 40, 50, 100, 200]\n",
    "time_taken = []\n",
    "time_taken_1 = []\n",
    "\n",
    "for _, elem in enumerate(list_of_nodes):\n",
    "    time_taken.append(time_measurement(kruskal_algorithm, elem, 0))\n",
    "    time_taken_1.append(time_measurement(tree.minimum_spanning_tree, elem, 0))\n",
    "\n",
    "plt.plot(list_of_nodes,time_taken, color = 'red', label = 'Our algorithm')\n",
    "plt.plot(list_of_nodes, time_taken_1, color = 'blue', label = 'Networkx algorithm')\n",
    "plt.ylabel('Time taken')\n",
    "plt.xlabel('Number of nodes')\n",
    "plt.title('Time taken for different number of nodes with 0 completeness')\n",
    "plt.legend()\n",
    "plt.show()"
   ]
  },
  {
   "cell_type": "code",
   "execution_count": null,
   "metadata": {},
   "outputs": [],
   "source": [
    "list_of_nodes = [10, 20, 40, 50, 100, 200]\n",
    "time_taken = []\n",
    "time_taken_1 = []\n",
    "\n",
    "for _, elem in enumerate(list_of_nodes):\n",
    "    time_taken.append(time_measurement(kruskal_algorithm, elem, 1))\n",
    "    time_taken_1.append(time_measurement(tree.minimum_spanning_tree, elem, 1))\n",
    "\n",
    "plt.plot(list_of_nodes,time_taken, color = 'red', label = 'Our algorithm')\n",
    "plt.plot(list_of_nodes, time_taken_1, color = 'blue', label = 'Networkx algorithm')\n",
    "plt.ylabel('Time taken')\n",
    "plt.xlabel('Number of nodes')\n",
    "plt.title('Time taken for different number of nodes with 1 completeness')\n",
    "plt.legend()\n",
    "plt.show()"
   ]
  }
 ],
 "metadata": {
  "kernelspec": {
   "display_name": "Python 3",
   "language": "python",
   "name": "python3"
  },
  "language_info": {
   "codemirror_mode": {
    "name": "ipython",
    "version": 3
   },
   "file_extension": ".py",
   "mimetype": "text/x-python",
   "name": "python",
   "nbconvert_exporter": "python",
   "pygments_lexer": "ipython3",
   "version": "3.10.7"
  },
  "orig_nbformat": 4,
  "vscode": {
   "interpreter": {
    "hash": "78fb1f200ffd88cd7d982a85f8c780a214547f4ef47582f8a43e5ff18a3f2014"
   }
  }
 },
 "nbformat": 4,
 "nbformat_minor": 2
}
